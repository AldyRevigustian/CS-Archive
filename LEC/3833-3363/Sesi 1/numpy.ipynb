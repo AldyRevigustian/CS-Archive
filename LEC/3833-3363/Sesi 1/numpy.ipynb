{
 "cells": [
  {
   "cell_type": "code",
   "execution_count": 4,
   "metadata": {},
   "outputs": [],
   "source": [
    "import numpy as np"
   ]
  },
  {
   "cell_type": "code",
   "execution_count": null,
   "metadata": {},
   "outputs": [],
   "source": []
  },
  {
   "cell_type": "code",
   "execution_count": 70,
   "metadata": {},
   "outputs": [
    {
     "name": "stdout",
     "output_type": "stream",
     "text": [
      "2\n",
      "[[0. 0. 0. 0.]\n",
      " [0. 0. 0. 0.]\n",
      " [0. 0. 0. 0.]]\n",
      "[[1. 1. 1. 1.]\n",
      " [1. 1. 1. 1.]\n",
      " [1. 1. 1. 1.]]\n",
      "[[1. 1. 1. 1.]\n",
      " [1. 1. 1. 1.]\n",
      " [1. 1. 1. 1.]]\n",
      "[[0.99745445 0.99667601 0.01220273 0.33355439]\n",
      " [0.89798125 0.09259117 0.84042122 0.57304385]\n",
      " [0.8209503  0.86464135 0.89090653 0.50275585]]\n",
      "[[  2   4]\n",
      " [ 10   7]\n",
      " [  9  20]\n",
      " [ 40 100]\n",
      " [ 70  90]]\n",
      "[ 1.  2.  3.  4.  5.  6.  7.  8.  9. 10.]\n"
     ]
    }
   ],
   "source": [
    "arr = [\n",
    "    [2,4,10,7,9],\n",
    "    [20,40,100,70,90]\n",
    "]\n",
    "\n",
    "arr = np.array(arr)\n",
    "# shape ndim zeros dot ones empty random vastck hastack\n",
    "np.shape(arr)\n",
    "\n",
    "print(arr.ndim)\n",
    "\n",
    "zeroArr = np.zeros((3,4))\n",
    "print(zeroArr)\n",
    "\n",
    "oneArr = np.ones((3,4))\n",
    "print(oneArr)\n",
    "\n",
    "emptArr = np.empty((3,4))\n",
    "print(emptArr)\n",
    "\n",
    "randArr = np.random.random((3,4))\n",
    "print(randArr)\n",
    "\n",
    "reshapeArr = np.reshape(arr, (5,2))\n",
    "print(reshapeArr)\n",
    "\n",
    "linspaceArr = np.linspace(1,10,10)\n",
    "print(linspaceArr)"
   ]
  }
 ],
 "metadata": {
  "kernelspec": {
   "display_name": "scientific_computing",
   "language": "python",
   "name": "python3"
  },
  "language_info": {
   "codemirror_mode": {
    "name": "ipython",
    "version": 3
   },
   "file_extension": ".py",
   "mimetype": "text/x-python",
   "name": "python",
   "nbconvert_exporter": "python",
   "pygments_lexer": "ipython3",
   "version": "3.7.6"
  },
  "orig_nbformat": 4
 },
 "nbformat": 4,
 "nbformat_minor": 2
}
