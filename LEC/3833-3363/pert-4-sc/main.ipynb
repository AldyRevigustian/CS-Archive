{
 "cells": [
  {
   "cell_type": "code",
   "execution_count": 3,
   "metadata": {},
   "outputs": [],
   "source": [
    "import numpy as np"
   ]
  },
  {
   "cell_type": "code",
   "execution_count": 5,
   "metadata": {},
   "outputs": [],
   "source": [
    "# f(x) 7x^3 - 4x^2 -5x + 5\n",
    "def f(x):\n",
    "    return 7 * (x**3) - 4 * (x**2) - 5 * x + 5\n",
    "\n",
    "# Turunan fungsi f(x)\n",
    "# g(x) = 21x^2 - 8x - 5\n",
    "\n",
    "def g(x):\n",
    "    return 21 * (x**2) - 8 * x - 5"
   ]
  },
  {
   "cell_type": "code",
   "execution_count": 11,
   "metadata": {},
   "outputs": [
    {
     "name": "stdout",
     "output_type": "stream",
     "text": [
      "Iter 1 : f(0.0) = 5.0\n",
      "Iter 2 : f(-2.5) = -116.875\n",
      "Iter 3 : f(-1.25) = -8.671875\n",
      "Iter 4 : f(-0.625) = 4.853515625\n",
      "Iter 5 : f(-0.9375) = 0.404052734375\n",
      "Iter 6 : f(-1.09375) = -3.475494384765625\n",
      "Iter 7 : f(-1.015625) = -1.3811302185058594\n",
      "Iter 8 : f(-0.9765625) = -0.4511427879333496\n",
      "Iter 9 : f(-0.95703125) = -0.014352500438690186\n",
      "Iter 10 : f(-0.947265625) = 0.19712869077920914\n",
      "Iter 11 : f(-0.9521484375) = 0.0919601833447814\n",
      "Iter 12 : f(-0.95458984375) = 0.03894716908689588\n",
      "Iter 13 : f(-0.955810546875) = 0.012333204431342892\n",
      "Iter 14 : f(-0.9564208984375) = -0.0010006757020164514\n",
      "Iter 15 : f(-0.95611572265625) = 0.005668506843221621\n",
      "Iter 16 : f(-0.956268310546875) = 0.0023344762648491724\n",
      "Iter 17 : f(-0.9563446044921875) = 0.0006670404643038808\n",
      "ROOT FOUND\n"
     ]
    }
   ],
   "source": [
    "# Bisection (mirip2 sama binary search)\n",
    "iter = 0\n",
    "def bisection(x1, x2, tolerance = 0.001):\n",
    "    global iter\n",
    "    iter += 1\n",
    "    if(np.sign(f(x1)) == np.sign(f(x2))):\n",
    "        print(\"Invalid x1 and x2\")\n",
    "        return\n",
    "    xmid = (x1 + x2) / 2\n",
    "    \n",
    "    print(f\"Iter {iter} : f({xmid}) = {f(xmid)}\")\n",
    "    # Kondisi 1 : diasumsikan sudah tepat\n",
    "    if(np.abs(f(xmid)) <= tolerance) : \n",
    "        print(\"ROOT FOUND\")\n",
    "        return\n",
    "    # Kondisi 2 : Rekursif ke kiri\n",
    "    elif(np.sign(f(xmid)) == np.sign(f(x2))):\n",
    "        bisection(x1, xmid, tolerance)\n",
    "    # Kondisi 3 : Rekursif ke kanan\n",
    "    else:\n",
    "        bisection(xmid, x2, tolerance)\n",
    "\n",
    "bisection(-5, 5)"
   ]
  },
  {
   "cell_type": "code",
   "execution_count": 17,
   "metadata": {},
   "outputs": [
    {
     "name": "stdout",
     "output_type": "stream",
     "text": [
      "Iter 1 : f(-3.3125) = -276.756591796875\n",
      "Iter 2 : f(-2.2139360085590685) = -79.49781802279611\n",
      "Iter 3 : f(-1.5264958383230305) = -21.58745148045538\n",
      "Iter 4 : f(-1.1420076859212902) = -4.932385304362375\n",
      "Iter 5 : f(-0.9855426117663408) = -0.6582269314698923\n",
      "Iter 6 : f(-0.9572701049211957) = -0.019582489606891684\n",
      "Iter 7 : f(-0.9563760027598205) = -1.9263122942980715e-05\n",
      "ROOT FOUND\n"
     ]
    }
   ],
   "source": [
    "# Newton raphson\n",
    "# x1 = x0 - (f(x) / g(x) )\n",
    "\n",
    "iter = 0\n",
    "def newton_raphson(x0, tolerance = 0.001) :\n",
    "    global iter\n",
    "    iter+=1\n",
    "\n",
    "    x1 = x0 - (f(x0) / g(x0) )\n",
    "    print(f\"Iter {iter} : f({x1}) = {f(x1)}\")\n",
    "    if(np.abs(f(x1)) <= tolerance):\n",
    "        print(\"ROOT FOUND\")\n",
    "        return\n",
    "    else :\n",
    "        newton_raphson(x1, tolerance)\n",
    "\n",
    "newton_raphson(-5)"
   ]
  },
  {
   "cell_type": "code",
   "execution_count": null,
   "metadata": {},
   "outputs": [],
   "source": []
  }
 ],
 "metadata": {
  "kernelspec": {
   "display_name": "scientific_computing",
   "language": "python",
   "name": "python3"
  },
  "language_info": {
   "codemirror_mode": {
    "name": "ipython",
    "version": 3
   },
   "file_extension": ".py",
   "mimetype": "text/x-python",
   "name": "python",
   "nbconvert_exporter": "python",
   "pygments_lexer": "ipython3",
   "version": "3.7.6"
  },
  "orig_nbformat": 4
 },
 "nbformat": 4,
 "nbformat_minor": 2
}
