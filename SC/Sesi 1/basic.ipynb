{
 "cells": [
  {
   "cell_type": "code",
   "execution_count": 8,
   "metadata": {},
   "outputs": [
    {
     "name": "stdout",
     "output_type": "stream",
     "text": [
      "Hallo Aku Aldy\n",
      "100\n",
      "Hallo Aku Aldy 100\n",
      "nama : Hallo Aku Aldy umur : 100\n",
      "HELLO\n"
     ]
    }
   ],
   "source": [
    "number = 100\n",
    "sentences = \"Hallo Aku Aldy\"\n",
    "\n",
    "print(sentences)\n",
    "print(number)\n",
    "\n",
    "print(sentences, number)\n",
    "print(f'nama : {sentences} umur : {number}')\n",
    "print(\"HELLO\")"
   ]
  },
  {
   "cell_type": "code",
   "execution_count": 10,
   "metadata": {},
   "outputs": [
    {
     "name": "stdout",
     "output_type": "stream",
     "text": [
      "15\n",
      "5\n",
      "50\n",
      "2.0\n",
      "100000\n"
     ]
    }
   ],
   "source": [
    "number1 = 10\n",
    "number2=5\n",
    "\n",
    "print(number1+number2)\n",
    "print(number1-number2)\n",
    "print(number1*number2)\n",
    "print(number1/number2)\n",
    "print(number1**number2)"
   ]
  },
  {
   "cell_type": "code",
   "execution_count": 13,
   "metadata": {},
   "outputs": [
    {
     "name": "stdout",
     "output_type": "stream",
     "text": [
      "Umur == 20\n"
     ]
    }
   ],
   "source": [
    "age = 20\n",
    "if age == 20 :\n",
    "    print(\"Umur == 20\")\n",
    "elif age < 20 :\n",
    "    print(\"Umur < 20\")\n",
    "else :\n",
    "    print(\"Umur > 20\")"
   ]
  },
  {
   "cell_type": "code",
   "execution_count": 17,
   "metadata": {},
   "outputs": [
    {
     "name": "stdout",
     "output_type": "stream",
     "text": [
      "0\n",
      "1\n",
      "2\n",
      "3\n",
      "4\n",
      "5\n",
      "6\n",
      "7\n",
      "8\n",
      "9\n",
      "10\n",
      "9\n",
      "8\n",
      "7\n",
      "6\n",
      "5\n",
      "4\n",
      "3\n",
      "2\n",
      "1\n"
     ]
    }
   ],
   "source": [
    "n = 10\n",
    "for i in range(n) :\n",
    "    print(i)\n",
    "\n",
    "while n > 0 :\n",
    "    print(n)\n",
    "    n= n - 1"
   ]
  },
  {
   "cell_type": "code",
   "execution_count": 19,
   "metadata": {},
   "outputs": [
    {
     "name": "stdout",
     "output_type": "stream",
     "text": [
      "5\n"
     ]
    }
   ],
   "source": [
    "def sum(a, b) :\n",
    "    return a + b\n",
    "\n",
    "print(sum(2, 3))"
   ]
  },
  {
   "cell_type": "code",
   "execution_count": 30,
   "metadata": {},
   "outputs": [
    {
     "name": "stdout",
     "output_type": "stream",
     "text": [
      "[1, 2, 3, 4, 5]\n",
      "[1, 2, 3, 100, 5]\n",
      "(1, 2, 3, 4, 5)\n",
      "8\n",
      "{9, 10, 3, 5}\n",
      "[2, 3, 100]\n",
      "[2, 100]\n"
     ]
    }
   ],
   "source": [
    "myList = [1,2,3,4,5]\n",
    "myTupple = (1,2,3,4,5)\n",
    "print(myList)\n",
    "myList[3] = 100\n",
    "print(myList)\n",
    "\n",
    "print(myTupple)\n",
    "# myTupple[3] = 100\n",
    "\n",
    "myDict = {'age' : 8, 'isTrue' : True, 'String' : \"AAA\"}\n",
    "print(myDict['age'])\n",
    "\n",
    "mySet = {3,10,9,5}\n",
    "print(mySet)\n",
    "\n",
    "print(myList[1:4])\n",
    "print(myList[1:4:2])"
   ]
  }
 ],
 "metadata": {
  "kernelspec": {
   "display_name": "scientific_computing",
   "language": "python",
   "name": "python3"
  },
  "language_info": {
   "codemirror_mode": {
    "name": "ipython",
    "version": 3
   },
   "file_extension": ".py",
   "mimetype": "text/x-python",
   "name": "python",
   "nbconvert_exporter": "python",
   "pygments_lexer": "ipython3",
   "version": "3.7.6"
  },
  "orig_nbformat": 4
 },
 "nbformat": 4,
 "nbformat_minor": 2
}
