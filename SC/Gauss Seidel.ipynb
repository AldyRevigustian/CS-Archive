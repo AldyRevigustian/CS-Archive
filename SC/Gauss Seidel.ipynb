{
 "cells": [
  {
   "cell_type": "code",
   "execution_count": 2,
   "metadata": {},
   "outputs": [],
   "source": [
    "import numpy as np"
   ]
  },
  {
   "cell_type": "code",
   "execution_count": 14,
   "metadata": {},
   "outputs": [],
   "source": [
    "x = [\n",
    "    [4, -1, 1],\n",
    "    [4, -8, 1],\n",
    "    [-2, 1, 5],\n",
    "]\n",
    "\n",
    "y = [7, -21, 15]"
   ]
  },
  {
   "cell_type": "code",
   "execution_count": 6,
   "metadata": {},
   "outputs": [],
   "source": [
    "def diagonal_dominan(matrix):\n",
    "    matrix = np.array(matrix)\n",
    "    abs_diag = np.abs(np.diag(matrix))\n",
    "    np.fill_diagonal(matrix, 0)\n",
    "    off_diag = np.sum(np.abs(matrix), axis=1)\n",
    "    # print(abs_diag)\n",
    "    # print(matrix)\n",
    "    # print(off_diag)\n",
    "\n",
    "    return np.all(abs_diag > off_diag)\n",
    "\n",
    "# diagonal_dominan(x)\n"
   ]
  },
  {
   "cell_type": "code",
   "execution_count": 19,
   "metadata": {},
   "outputs": [
    {
     "name": "stdout",
     "output_type": "stream",
     "text": [
      "Iteration #1 : [1.75 3.5  3.  ]\n",
      "Diff : 4.930770730829005\n",
      "Iteration #2 : [1.875  3.9375 2.9625]\n",
      "Diff : 0.45654955919374185\n",
      "Iteration #3 : [1.99375   3.9921875 2.9990625]\n",
      "Diff : 0.13575382706391736\n",
      "Iteration #4 : [1.99828125 3.99902344 2.99950781]\n",
      "Diff : 0.008213438457130089\n",
      "Result is convergent\n"
     ]
    }
   ],
   "source": [
    "def gaus_seidel(x, y):\n",
    "    # Step 1 : Harus diagonal dominant\n",
    "    if not diagonal_dominan(x):\n",
    "        print(\"Not diagonal dominant! Exiting!\")\n",
    "        return\n",
    "        \n",
    "    # Step 2 : Tentukan x,y, diag (x) dan diagonal di x\n",
    "    # di jadikan 0, threshold dan max_iter\n",
    "\n",
    "    x = np.array(x)\n",
    "    y = np.array(y)\n",
    "    diag_x = np.array(np.diag(x))\n",
    "    np.fill_diagonal(x, 0)\n",
    "    \n",
    "    threshold = 0.05\n",
    "    max_iter = 50\n",
    "\n",
    "    # Step 3 : Hitung\n",
    "    x = -x\n",
    "    res_old = np.zeros(diag_x.shape)\n",
    "\n",
    "    for iter in range(max_iter):\n",
    "        res_new = np.array(res_old)\n",
    "        # Tentuin res_new dengan rumus\n",
    "        # res_n = (y_n + res * x_n) / diag_n\n",
    "        for idx, row in enumerate(x):\n",
    "            res_new[idx] = (y[idx] + np.dot(res_new, row)) / diag_x[idx]\n",
    "            \n",
    "        temp = res_new - res_old\n",
    "        diff = np.sqrt(np.dot(temp, temp))\n",
    "        print(f\"Iteration #{iter + 1} : {res_new}\")\n",
    "        print(f\"Diff : {diff}\")\n",
    "\n",
    "        res_old = res_new\n",
    "\n",
    "        if diff <= threshold :\n",
    "            print(\"Result is convergent\")\n",
    "            return\n",
    "\n",
    "\n",
    "gaus_seidel(x,y)"
   ]
  },
  {
   "cell_type": "code",
   "execution_count": null,
   "metadata": {},
   "outputs": [],
   "source": []
  }
 ],
 "metadata": {
  "kernelspec": {
   "display_name": "scientific_computing",
   "language": "python",
   "name": "python3"
  },
  "language_info": {
   "codemirror_mode": {
    "name": "ipython",
    "version": 3
   },
   "file_extension": ".py",
   "mimetype": "text/x-python",
   "name": "python",
   "nbconvert_exporter": "python",
   "pygments_lexer": "ipython3",
   "version": "3.12.3"
  },
  "orig_nbformat": 4
 },
 "nbformat": 4,
 "nbformat_minor": 2
}
