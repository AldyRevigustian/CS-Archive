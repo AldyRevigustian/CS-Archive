{
 "cells": [
  {
   "cell_type": "code",
   "execution_count": 1,
   "metadata": {},
   "outputs": [],
   "source": [
    "import numpy as np"
   ]
  },
  {
   "cell_type": "code",
   "execution_count": 2,
   "metadata": {},
   "outputs": [],
   "source": [
    "x = [\n",
    "  [10,5,3],\n",
    "  [4,10,3],\n",
    "  [1,4,10],\n",
    "]\n",
    "\n",
    "y = [10,20,30]"
   ]
  },
  {
   "cell_type": "code",
   "execution_count": 4,
   "metadata": {},
   "outputs": [],
   "source": [
    "def diagonal_dom(matrix):\n",
    "  matrix = np.array(matrix)\n",
    "  diag = np.abs(np.diag(matrix))\n",
    "\n",
    "  np.fill_diagonal(matrix, 0)\n",
    "  mat_sum = np.sum(np.abs(matrix), axis=1)\n",
    "\n",
    "  return np.all(diag>= mat_sum)\n"
   ]
  },
  {
   "cell_type": "code",
   "execution_count": 5,
   "metadata": {},
   "outputs": [
    {
     "name": "stdout",
     "output_type": "stream",
     "text": [
      "Iter Ke 1 : [1.   1.6  2.26]\n",
      "Diff : 2.944078803293146\n",
      "Iter Ke 2 : [-0.478    1.5132   2.44252]\n",
      "Diff : 1.4917546012665759\n",
      "Iter Ke 3 : [-0.489356    1.4629864   2.46374104]\n",
      "Diff : 0.055683901620141425\n",
      "Iter Ke 4 : [-0.47061551  1.44912389  2.46741199]\n",
      "Diff : 0.023597688450474445\n",
      "Iter Ke 5 : [-0.46478554  1.44569062  2.46820231]\n",
      "Diff : 0.006811789646911272\n"
     ]
    }
   ],
   "source": [
    "def gauss_seidel(x,y):\n",
    "  if not diagonal_dom(x):\n",
    "    return\n",
    "  \n",
    "  x = np.array(x)\n",
    "  y = np.array(y)\n",
    "  diag_x = np.array(np.diag(x))\n",
    "  np.fill_diagonal(x, 0)\n",
    "\n",
    "  treshold = 0.01\n",
    "  max_iter = 50\n",
    "\n",
    "  x = -x\n",
    "  res_old = np.zeros(diag_x.size)\n",
    "\n",
    "  for iter in range(max_iter):\n",
    "    res_new = np.array(res_old)\n",
    "\n",
    "    for idx, row in enumerate(x):\n",
    "      res_new[idx] = (y[idx] + np.dot(res_new, row)) / diag_x[idx]\n",
    "\n",
    "    temp = res_new - res_old\n",
    "    diff = np.sqrt(np.dot(temp, temp))\n",
    "\n",
    "    print(f\"Iter Ke {iter + 1} : {res_new}\")\n",
    "    print(f\"Diff : {diff}\")\n",
    "\n",
    "    res_old = res_new\n",
    "\n",
    "    if diff <= treshold:\n",
    "      return\n",
    "\n",
    "gauss_seidel(x,y)"
   ]
  },
  {
   "cell_type": "code",
   "execution_count": null,
   "metadata": {},
   "outputs": [],
   "source": []
  }
 ],
 "metadata": {
  "kernelspec": {
   "display_name": "scientific_computing",
   "language": "python",
   "name": "python3"
  },
  "language_info": {
   "codemirror_mode": {
    "name": "ipython",
    "version": 3
   },
   "file_extension": ".py",
   "mimetype": "text/x-python",
   "name": "python",
   "nbconvert_exporter": "python",
   "pygments_lexer": "ipython3",
   "version": "3.12.3"
  },
  "orig_nbformat": 4
 },
 "nbformat": 4,
 "nbformat_minor": 2
}
