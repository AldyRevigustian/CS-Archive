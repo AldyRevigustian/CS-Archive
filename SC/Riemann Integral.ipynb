{
 "cells": [
  {
   "cell_type": "code",
   "execution_count": 2,
   "metadata": {},
   "outputs": [],
   "source": [
    "import numpy as np"
   ]
  },
  {
   "cell_type": "code",
   "execution_count": 3,
   "metadata": {},
   "outputs": [],
   "source": [
    "def f(x):\n",
    "    return x**2 - 5\n"
   ]
  },
  {
   "cell_type": "code",
   "execution_count": 9,
   "metadata": {},
   "outputs": [
    {
     "name": "stdout",
     "output_type": "stream",
     "text": [
      "[2.   2.75 3.5  4.25 5.  ]\n",
      "16.40625\n",
      "32.15625\n",
      "23.859375\n",
      "24.28125\n"
     ]
    }
   ],
   "source": [
    "a = 2\n",
    "b = 5\n",
    "jumlah_titik = 5\n",
    "lebar_kotak = (b-a) / (jumlah_titik-1)\n",
    "# print(lebar_kotak)\n",
    "# print(np.linspace(0,10,10))\n",
    "x = np.linspace(a,b,jumlah_titik)\n",
    "y = f(x)\n",
    "\n",
    "# Y last gak diambil\n",
    "left_Riemann = lebar_kotak * np.sum(y[0:jumlah_titik-1])\n",
    "# Y awal gak diambil\n",
    "right_Riemann = lebar_kotak * np.sum(y[1:jumlah_titik])\n",
    "\n",
    "x_mid = (x[0:jumlah_titik-1] + x[1: jumlah_titik]) / 2\n",
    "y_mid = f(x_mid)\n",
    "# print(x_mid)\n",
    "mid_Riemann = lebar_kotak * sum(y_mid)\n",
    "trapezoid = (lebar_kotak / 2) * (y[0] + 2*sum(y[1:jumlah_titik-1]) + y[jumlah_titik-1])\n",
    "\n",
    "# print(x)\n",
    "# print(y)\n",
    "print(left_Riemann)\n",
    "print(right_Riemann)\n",
    "print(mid_Riemann)\n",
    "print(trapezoid)\n",
    "\n"
   ]
  },
  {
   "cell_type": "code",
   "execution_count": null,
   "metadata": {},
   "outputs": [],
   "source": []
  }
 ],
 "metadata": {
  "kernelspec": {
   "display_name": "scientific_computing",
   "language": "python",
   "name": "python3"
  },
  "language_info": {
   "codemirror_mode": {
    "name": "ipython",
    "version": 3
   },
   "file_extension": ".py",
   "mimetype": "text/x-python",
   "name": "python",
   "nbconvert_exporter": "python",
   "pygments_lexer": "ipython3",
   "version": "3.12.3"
  },
  "orig_nbformat": 4
 },
 "nbformat": 4,
 "nbformat_minor": 2
}
