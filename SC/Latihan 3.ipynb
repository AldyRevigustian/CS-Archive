{
 "cells": [
  {
   "cell_type": "code",
   "execution_count": 1,
   "metadata": {},
   "outputs": [],
   "source": [
    "import numpy as np"
   ]
  },
  {
   "cell_type": "code",
   "execution_count": 3,
   "metadata": {},
   "outputs": [],
   "source": [
    "def f(x):\n",
    "    return 7 * (x**3) - 4 * (x**2) - 5 * x + 5\n",
    "\n",
    "def g(x):\n",
    "    return 21 * (x**2) - 8 * x - 5"
   ]
  },
  {
   "cell_type": "code",
   "execution_count": 9,
   "metadata": {},
   "outputs": [
    {
     "name": "stdout",
     "output_type": "stream",
     "text": [
      "Iter ke 1 : f(-3.3125) = -276.756591796875\n",
      "Iter ke 2 : f(-2.2139360085590685) = -79.49781802279611\n",
      "Iter ke 3 : f(-1.5264958383230305) = -21.58745148045538\n",
      "Iter ke 4 : f(-1.1420076859212902) = -4.932385304362375\n",
      "Iter ke 5 : f(-0.9855426117663408) = -0.6582269314698923\n",
      "Iter ke 6 : f(-0.9572701049211957) = -0.019582489606891684\n",
      "Iter ke 7 : f(-0.9563760027598205) = -1.9263122942980715e-05\n",
      "ROOT FOUND\n"
     ]
    }
   ],
   "source": [
    "iter = 0\n",
    "def newton_rhapson(x0, tolerance = 0.001):\n",
    "  global iter\n",
    "  iter+=1\n",
    "\n",
    "  x1 = x0 - (f(x0) / g(x0))\n",
    "  print(f\"Iter ke {iter} : f({x1}) = {f(x1)}\")\n",
    "\n",
    "  if(np.abs(f(x1)) <= tolerance):\n",
    "    print(\"ROOT FOUND\")\n",
    "    return\n",
    "  \n",
    "  newton_rhapson(x1)\n",
    "\n",
    "newton_rhapson(-5)"
   ]
  },
  {
   "cell_type": "code",
   "execution_count": null,
   "metadata": {},
   "outputs": [],
   "source": []
  }
 ],
 "metadata": {
  "kernelspec": {
   "display_name": "scientific_computing",
   "language": "python",
   "name": "python3"
  },
  "language_info": {
   "codemirror_mode": {
    "name": "ipython",
    "version": 3
   },
   "file_extension": ".py",
   "mimetype": "text/x-python",
   "name": "python",
   "nbconvert_exporter": "python",
   "pygments_lexer": "ipython3",
   "version": "3.12.3"
  }
 },
 "nbformat": 4,
 "nbformat_minor": 2
}
