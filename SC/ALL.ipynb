{
 "cells": [
  {
   "cell_type": "markdown",
   "metadata": {},
   "source": [
    "# GAUSS SEIDEL"
   ]
  },
  {
   "cell_type": "code",
   "execution_count": null,
   "metadata": {},
   "outputs": [],
   "source": [
    "import numpy as np\n",
    "\n",
    "x = [\n",
    "  [10,5,3],\n",
    "  [4,10,3],\n",
    "  [1,4,10],\n",
    "]\n",
    "\n",
    "y = [10,20,30]\n",
    "\n",
    "def diagonal_dom(matrix):\n",
    "  matrix = np.array(matrix)\n",
    "  diag_abs = np.abs(np.diag(matrix))\n",
    "  np.fill_diagonal(matrix, 0)\n",
    "  matrix_sum = np.sum(np.abs(matrix), axis=1)\n",
    "\n",
    "  return np.all(diag_abs > matrix_sum)\n",
    "\n",
    "def gauss_seidel(x,y):\n",
    "  if not diagonal_dom(x):\n",
    "    print(\"Not Diagonal Dominan\")\n",
    "    return\n",
    "  \n",
    "  x = np.array(x)\n",
    "  y = np.array(y)\n",
    "  diag_x = np.array(np.diag(x))\n",
    "  np.fill_diagonal(x, 0)\n",
    "\n",
    "  treshold = 0.05\n",
    "  max_iter = 50\n",
    "\n",
    "  x = -x\n",
    "  res_old = np.zeros(diag_x.size)\n",
    "\n",
    "  for iter in range(max_iter):\n",
    "    res_new = np.array(res_old)\n",
    "\n",
    "    for idx, row in enumerate(x):\n",
    "      res_new[idx] = (y[idx] + np.dot(res_new, row)) / diag_x[idx]\n",
    "\n",
    "    temp = res_new - res_old\n",
    "    diff = np.sqrt(np.dot(temp, temp))\n",
    "\n",
    "    print(f\"Iterasi ke : {iter + 1} : {res_new}\")\n",
    "    print(f\"Diff : {diff}\")\n",
    "\n",
    "    res_old = res_new\n",
    "\n",
    "    if diff <= treshold :\n",
    "      print(\"Convergen\")\n",
    "      return\n",
    "    \n",
    "gauss_seidel(x,y)"
   ]
  },
  {
   "cell_type": "markdown",
   "metadata": {},
   "source": [
    "# Least Square Regression"
   ]
  },
  {
   "cell_type": "code",
   "execution_count": 1,
   "metadata": {},
   "outputs": [
    {
     "data": {
      "image/png": "[encoded data removed]",
      "text/plain": [
       "<Figure size 640x480 with 1 Axes>"
      ]
     },
     "metadata": {},
     "output_type": "display_data"
    }
   ],
   "source": [
    "import numpy as np\n",
    "import matplotlib.pyplot as plt\n",
    "\n",
    "x = [1,2,3,4,5,6,7,8]\n",
    "y = [10,15,20,30,23,25,40,35]\n",
    "\n",
    "x = np.array(x)\n",
    "y = np.array(y)\n",
    "\n",
    "A = np.vstack([x, np.ones(len(x))]).T\n",
    "y = y[:, np.newaxis]\n",
    "\n",
    "pinv = np.linalg.pinv(A)\n",
    "beta = pinv.dot(y)\n",
    "\n",
    "plt.plot(x,y, 'bo')\n",
    "plt.plot(x, beta[0] * x + beta[1], 'r')\n",
    "plt.show()\n"
   ]
  },
  {
   "cell_type": "markdown",
   "metadata": {},
   "source": [
    "# Newton Rhapson"
   ]
  },
  {
   "cell_type": "code",
   "execution_count": null,
   "metadata": {},
   "outputs": [],
   "source": [
    "import numpy as np\n",
    "\n",
    "def f(x):\n",
    "    return 7 * (x**3) - 4 * (x**2) - 5 * x + 5\n",
    "\n",
    "def g(x):\n",
    "    return 21 * (x**2) - 8 * x - 5\n",
    "\n",
    "iter = 0\n",
    "def newton_rhapson(x0, tolerance = 0.1):\n",
    "    global iter\n",
    "    iter += 1\n",
    "\n",
    "    x1 = x0 - (f(x0) / g(x0))\n",
    "\n",
    "    print(f\"Iterasi ke {iter} : f({x1}) = {f(x1)}\")\n",
    "\n",
    "    if np.abs(f(x1)) <= tolerance:\n",
    "        print(f\"Root Found at {iter} : {x1}\")\n",
    "        return\n",
    "    \n",
    "    newton_rhapson(x1)\n",
    "\n",
    "newton_rhapson(2)"
   ]
  },
  {
   "cell_type": "markdown",
   "metadata": {},
   "source": [
    "# Riemann Integral"
   ]
  },
  {
   "cell_type": "code",
   "execution_count": null,
   "metadata": {},
   "outputs": [],
   "source": [
    "import numpy as np\n",
    "\n",
    "def f(x):\n",
    "    return x**2 - 5\n",
    "\n",
    "a = 2\n",
    "b = 5\n",
    "jumlah_titik = 5\n",
    "lebar_kotak = (b-a) / (jumlah_titik-1)\n",
    "x = np.linspace(a,b,jumlah_titik)\n",
    "y = f(x)\n",
    "\n",
    "left_Riemann = lebar_kotak * np.sum(y[0:jumlah_titik-1])\n",
    "right_Riemann = lebar_kotak * np.sum(y[1:jumlah_titik])\n",
    "\n",
    "x_mid = (x[0:jumlah_titik-1] + x[1: jumlah_titik]) / 2\n",
    "y_mid = f(x_mid)\n",
    "mid_Riemann = lebar_kotak * sum(y_mid)\n",
    "\n",
    "trapezoid = (lebar_kotak / 2) * (y[0] + 2*sum(y[1:jumlah_titik-1]) + y[jumlah_titik-1])\n",
    "\n",
    "print(left_Riemann)\n",
    "print(right_Riemann)\n",
    "print(mid_Riemann)\n",
    "print(trapezoid)"
   ]
  }
 ],
 "metadata": {
  "kernelspec": {
   "display_name": "scientific_computing",
   "language": "python",
   "name": "python3"
  },
  "language_info": {
   "codemirror_mode": {
    "name": "ipython",
    "version": 3
   },
   "file_extension": ".py",
   "mimetype": "text/x-python",
   "name": "python",
   "nbconvert_exporter": "python",
   "pygments_lexer": "ipython3",
   "version": "3.12.3"
  }
 },
 "nbformat": 4,
 "nbformat_minor": 2
}
